{
 "cells": [
  {
   "cell_type": "markdown",
   "metadata": {},
   "source": [
    "# This notebook tests the plugin functionality"
   ]
  },
  {
   "cell_type": "code",
   "execution_count": 1,
   "metadata": {},
   "outputs": [],
   "source": [
    "import numpy as np\n",
    "import napari\n",
    "%gui qt\n",
    "#import sys\n",
    "#sys.path.append('../')\n",
    "#import napari_jroiwriter"
   ]
  },
  {
   "cell_type": "code",
   "execution_count": 2,
   "metadata": {},
   "outputs": [],
   "source": [
    "viewer=napari.Viewer()"
   ]
  },
  {
   "cell_type": "code",
   "execution_count": 3,
   "metadata": {},
   "outputs": [],
   "source": [
    "rectcoords=np.array([[[100,100],[110,100],[110,110],[100,110]],[[130,130],[140,130],[140,140],[130,140]]])"
   ]
  },
  {
   "cell_type": "code",
   "execution_count": 4,
   "metadata": {},
   "outputs": [
    {
     "data": {
      "text/plain": [
       "<Shapes layer 'rectcoords' at 0x17649f53b80>"
      ]
     },
     "execution_count": 4,
     "metadata": {},
     "output_type": "execute_result"
    }
   ],
   "source": [
    "viewer.add_image(np.random.normal(size=(300,300)))\n",
    "viewer.add_shapes(rectcoords,shape_type='rectangle',edge_color='red')"
   ]
  },
  {
   "cell_type": "code",
   "execution_count": 5,
   "metadata": {},
   "outputs": [
    {
     "data": {
      "text/plain": [
       "['c:\\\\Users\\\\jru\\\\Documents\\\\IPython_Notebooks\\\\napari_jroitools\\\\tests\\\\test_plugin_out.zip']"
      ]
     },
     "execution_count": 5,
     "metadata": {},
     "output_type": "execute_result"
    }
   ],
   "source": [
    "roilayer=viewer.layers[-1]\n",
    "napari.save_layers('test_plugin_out.zip',[roilayer],plugin='napari_jroiwriter')"
   ]
  },
  {
   "cell_type": "code",
   "execution_count": 6,
   "metadata": {},
   "outputs": [
    {
     "name": "stdout",
     "output_type": "stream",
     "text": [
      "0000-0105-0105.roi\n",
      "version:228\n",
      "type:1\n",
      "subtype:0\n",
      "bounds:\n",
      "[100, 100, 110, 110]\n",
      "n coords:0\n",
      "options:0\n",
      "position:0\n",
      "header2 offset:0\n",
      "rect type\n",
      "0000-0135-0135.roi\n",
      "version:228\n",
      "type:1\n",
      "subtype:0\n",
      "bounds:\n",
      "[130, 130, 140, 140]\n",
      "n coords:0\n",
      "options:0\n",
      "position:0\n",
      "header2 offset:0\n",
      "rect type\n"
     ]
    },
    {
     "data": {
      "text/plain": [
       "[<Shapes layer 'test_plugin_out.zip' at 0x1764cf691c0>]"
      ]
     },
     "execution_count": 6,
     "metadata": {},
     "output_type": "execute_result"
    }
   ],
   "source": [
    "viewer.open('test_plugin_out.zip')"
   ]
  },
  {
   "cell_type": "code",
   "execution_count": null,
   "metadata": {},
   "outputs": [],
   "source": []
  }
 ],
 "metadata": {
  "kernelspec": {
   "display_name": "naparienv",
   "language": "python",
   "name": "naparienv"
  },
  "language_info": {
   "codemirror_mode": {
    "name": "ipython",
    "version": 3
   },
   "file_extension": ".py",
   "mimetype": "text/x-python",
   "name": "python",
   "nbconvert_exporter": "python",
   "pygments_lexer": "ipython3",
   "version": "3.7.10"
  }
 },
 "nbformat": 4,
 "nbformat_minor": 4
}
