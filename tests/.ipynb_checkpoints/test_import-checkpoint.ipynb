{
 "cells": [
  {
   "cell_type": "markdown",
   "metadata": {},
   "source": [
    "# This notebook tests the file import and export functions"
   ]
  },
  {
   "cell_type": "code",
   "execution_count": 1,
   "metadata": {},
   "outputs": [],
   "source": [
    "import importroi as ir\n",
    "import exportroi as er\n",
    "import napari\n",
    "%gui qt\n",
    "import numpy as np"
   ]
  },
  {
   "cell_type": "code",
   "execution_count": 2,
   "metadata": {},
   "outputs": [],
   "source": [
    "decoder=ir.RoiDecoder()"
   ]
  },
  {
   "cell_type": "code",
   "execution_count": 3,
   "metadata": {},
   "outputs": [
    {
     "name": "stdout",
     "output_type": "stream",
     "text": [
      "0177-0099-0075.roi\n",
      "version:228\n",
      "type:3\n",
      "subtype:0\n",
      "bounds:\n",
      "[45, 59, 153, 91]\n",
      "n coords:1114374144\n",
      "options:0\n",
      "position:0\n",
      "header2 offset:64\n",
      "line type\n",
      "0177-0103-0077.roi\n",
      "version:228\n",
      "type:3\n",
      "subtype:0\n",
      "bounds:\n",
      "[93, 51, 113, 103]\n",
      "n coords:1112276992\n",
      "options:0\n",
      "position:0\n",
      "header2 offset:64\n",
      "line type\n",
      "0025-0044-0062.roi\n",
      "version:228\n",
      "type:10\n",
      "subtype:0\n",
      "bounds:\n",
      "[44, 62, 45, 63]\n",
      "n coords:1\n",
      "options:1152\n",
      "position:0\n",
      "header2 offset:76\n",
      "subPixelResolution is true\n",
      "point type\n"
     ]
    }
   ],
   "source": [
    "rois=decoder.readzip('rois.zip')"
   ]
  },
  {
   "cell_type": "code",
   "execution_count": 4,
   "metadata": {},
   "outputs": [
    {
     "data": {
      "text/plain": [
       "'0000-0099-0075.roi'"
      ]
     },
     "execution_count": 4,
     "metadata": {},
     "output_type": "execute_result"
    }
   ],
   "source": [
    "rois[0].getStandardName()"
   ]
  },
  {
   "cell_type": "code",
   "execution_count": 4,
   "metadata": {},
   "outputs": [
    {
     "data": {
      "text/plain": [
       "<Image layer 'image' at 0x1f379da4df0>"
      ]
     },
     "execution_count": 4,
     "metadata": {},
     "output_type": "execute_result"
    }
   ],
   "source": [
    "#add these to a napari viewer\n",
    "viewer=napari.Viewer()\n",
    "image=np.random.normal(size=(1000,1000))\n",
    "viewer.add_image(image)"
   ]
  },
  {
   "cell_type": "code",
   "execution_count": 5,
   "metadata": {},
   "outputs": [
    {
     "data": {
      "text/plain": [
       "<Shapes layer 'roidata' at 0x1f37bc21640>"
      ]
     },
     "execution_count": 5,
     "metadata": {},
     "output_type": "execute_result"
    }
   ],
   "source": [
    "roidata=[rois[i].getNapariArray() for i in range(2)]\n",
    "thickness=rois[0].thickness\n",
    "if(thickness<1): thickness=1\n",
    "viewer.add_shapes(roidata,shape_type='line',edge_color='red',edge_width=thickness)"
   ]
  },
  {
   "cell_type": "code",
   "execution_count": 6,
   "metadata": {},
   "outputs": [],
   "source": [
    "#now let's get the shapes data back out of the layer\n",
    "roilayer=viewer.layers[-1]"
   ]
  },
  {
   "cell_type": "code",
   "execution_count": 7,
   "metadata": {},
   "outputs": [],
   "source": [
    "layer_data=[roilayer.data,roilayer._get_state(),roilayer._type_string]"
   ]
  },
  {
   "cell_type": "code",
   "execution_count": 8,
   "metadata": {},
   "outputs": [
    {
     "data": {
      "text/plain": [
       "[[array([[ -1.,  45.,  59.],\n",
       "         [ -1., 153.,  91.]]),\n",
       "  array([[ -1., 113.,  51.],\n",
       "         [ -1.,  93., 103.]])],\n",
       " {'name': 'roidata',\n",
       "  'metadata': {},\n",
       "  'scale': [1.0, 1.0, 1.0],\n",
       "  'translate': [0, 0, 0],\n",
       "  'rotate': [[1.0, 0.0, 0.0], [-0.0, 1.0, 0.0], [-0.0, -0.0, 1.0]],\n",
       "  'shear': [0.0, 0.0, 0.0],\n",
       "  'opacity': 0.7,\n",
       "  'blending': 'translucent',\n",
       "  'visible': True,\n",
       "  'ndim': 3,\n",
       "  'properties': {},\n",
       "  'text': {'text': None,\n",
       "   'rotation': 0,\n",
       "   'color': array([0., 1., 1., 1.], dtype=float32),\n",
       "   'translation': 0,\n",
       "   'size': 12,\n",
       "   'visible': True},\n",
       "  'shape_type': ['line', 'line'],\n",
       "  'z_index': [0, 0],\n",
       "  'edge_width': [1, 1],\n",
       "  'face_color': array([[1., 1., 1., 1.],\n",
       "         [1., 1., 1., 1.]]),\n",
       "  'face_color_cycle': array([[1., 0., 1., 1.],\n",
       "         [0., 1., 0., 1.]], dtype=float32),\n",
       "  'face_colormap': 'viridis',\n",
       "  'face_contrast_limits': None,\n",
       "  'edge_color': array([[1., 0., 0., 1.],\n",
       "         [1., 0., 0., 1.]]),\n",
       "  'edge_color_cycle': array([[1., 0., 1., 1.],\n",
       "         [0., 1., 0., 1.]], dtype=float32),\n",
       "  'edge_colormap': 'viridis',\n",
       "  'edge_contrast_limits': None,\n",
       "  'data': [array([[ -1.,  45.,  59.],\n",
       "          [ -1., 153.,  91.]]),\n",
       "   array([[ -1., 113.,  51.],\n",
       "          [ -1.,  93., 103.]])]},\n",
       " 'shapes']"
      ]
     },
     "execution_count": 8,
     "metadata": {},
     "output_type": "execute_result"
    }
   ],
   "source": [
    "layer_data"
   ]
  },
  {
   "cell_type": "code",
   "execution_count": 9,
   "metadata": {},
   "outputs": [],
   "source": [
    "roisout=er.get_rois_from_data(layer_data)"
   ]
  },
  {
   "cell_type": "code",
   "execution_count": 10,
   "metadata": {},
   "outputs": [],
   "source": [
    "encoder=er.RoiEncoder()"
   ]
  },
  {
   "cell_type": "code",
   "execution_count": 11,
   "metadata": {},
   "outputs": [],
   "source": [
    "encoder.writeMultiRois(roisout,'testout.zip')"
   ]
  },
  {
   "cell_type": "code",
   "execution_count": 12,
   "metadata": {},
   "outputs": [
    {
     "data": {
      "text/plain": [
       "['C:\\\\Users\\\\jru\\\\Documents\\\\IPython_Notebooks\\\\napari_jroitools\\\\tests\\\\test_plugin_out.zip']"
      ]
     },
     "execution_count": 12,
     "metadata": {},
     "output_type": "execute_result"
    },
    {
     "name": "stdout",
     "output_type": "stream",
     "text": [
      "version:228\n",
      "type:3\n",
      "subtype:0\n",
      "bounds:\n",
      "[169, 415, 170, 443]\n",
      "n coords:1137672192\n",
      "options:8192\n",
      "position:2\n",
      "header2 offset:64\n",
      "line type\n",
      "0177-0099-0075.roi\n",
      "version:228\n",
      "type:3\n",
      "subtype:0\n",
      "bounds:\n",
      "[45, 59, 153, 91]\n",
      "n coords:1114374144\n",
      "options:0\n",
      "position:0\n",
      "header2 offset:64\n",
      "line type\n",
      "0177-0103-0077.roi\n",
      "version:228\n",
      "type:3\n",
      "subtype:0\n",
      "bounds:\n",
      "[93, 51, 113, 103]\n",
      "n coords:1112276992\n",
      "options:0\n",
      "position:0\n",
      "header2 offset:64\n",
      "line type\n",
      "0025-0044-0062.roi\n",
      "version:228\n",
      "type:10\n",
      "subtype:0\n",
      "bounds:\n",
      "[44, 62, 45, 63]\n",
      "n coords:1\n",
      "options:1152\n",
      "position:0\n",
      "header2 offset:76\n",
      "subPixelResolution is true\n",
      "point type\n"
     ]
    },
    {
     "name": "stderr",
     "output_type": "stream",
     "text": [
      "c:\\users\\jru\\documents\\ipython_notebooks\\napari_jroitools\\importroi.py:341: VisibleDeprecationWarning: Creating an ndarray from ragged nested sequences (which is a list-or-tuple of lists-or-tuples-or ndarrays with different lengths or shapes) is deprecated. If you meant to do this, you must specify 'dtype=object' when creating the ndarray\n",
      "  return np.array(list(zip(zcoords,self.ycoords,self.xcoords)))\n"
     ]
    }
   ],
   "source": [
    "napari.save_layers('test_plugin_out.zip',[roilayer],plugin='napari_jroiwriter')"
   ]
  },
  {
   "cell_type": "code",
   "execution_count": null,
   "metadata": {},
   "outputs": [],
   "source": []
  }
 ],
 "metadata": {
  "kernelspec": {
   "display_name": "naparienv",
   "language": "python",
   "name": "naparienv"
  },
  "language_info": {
   "codemirror_mode": {
    "name": "ipython",
    "version": 3
   },
   "file_extension": ".py",
   "mimetype": "text/x-python",
   "name": "python",
   "nbconvert_exporter": "python",
   "pygments_lexer": "ipython3",
   "version": "3.8.5"
  }
 },
 "nbformat": 4,
 "nbformat_minor": 4
}
